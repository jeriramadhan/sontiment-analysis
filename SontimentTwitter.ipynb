{
 "cells": [
  {
   "cell_type": "code",
   "execution_count": 1,
   "metadata": {},
   "outputs": [],
   "source": [
    "import matplotlib.pyplot as plt\n",
    "import numpy as np\n",
    "import pandas as pd\n",
    "import re\n",
    "import sys\n",
    "import json\n",
    "\n",
    "from nltk.tokenize import word_tokenize\n",
    "from nltk.corpus import stopwords\n",
    "from string import punctuation\n",
    "from vaderSentiment.vaderSentiment import SentimentIntensityAnalyzer\n",
    "    \n",
    "import twitter_credentials"
   ]
  },
  {
   "cell_type": "code",
   "execution_count": 2,
   "metadata": {},
   "outputs": [],
   "source": [
    "class TweetAnalyzer():\n",
    "    \"\"\"\n",
    "    Functionality for analyzing and categorizing content from tweets.\n",
    "    \"\"\"\n",
    "    def __init__(self):\n",
    "        self._stopwords = set(stopwords.words('english') + list(punctuation) + ['AT_USER','URL'])\n",
    "        \n",
    "    def clean_tweet(self, tweet):\n",
    "        tweet = tweet.lower() # convert text to lower-case\n",
    "        tweet = re.sub('((www\\.[^\\s]+)|(https?://[^\\s]+))', 'URL', tweet) #url hilang\n",
    "        tweet = re.sub('@[^\\s]+', 'AT_USER', tweet) #ngilangin username\n",
    "        tweet = re.sub(r'#([^\\s]+)', r'\\1', tweet) #remove hashtag\n",
    "        tweet = word_tokenize(tweet) # (helloooooooo into hello)\n",
    "        return ' '.join([word for word in tweet if word not in self._stopwords])\n",
    "\n",
    "    def json_to_data_frame(self, anuFile):\n",
    "        df = []\n",
    "        for line in anuFile:\n",
    "            try:\n",
    "                j = json.loads(line.strip())\n",
    "                # print (j['text'])\n",
    "                df.append(j['text'])\n",
    "\n",
    "            except:\n",
    "                pass  # some tweets are malformed - we ignore them\n",
    "        twit = pd.DataFrame(data=df, columns=['tweets'])\n",
    "        return twit\n",
    "    \n",
    "    def sentimen_word2vec(self, tweet):\n",
    "        # build vocabulary and train model\n",
    "        model = gensim.models.Word2Vec(tweet,size=150,window=10,min_count=2,workers=10,iter=10)\n",
    "        return model.wv.most_similar(positive=tweet,topn=5)\n",
    "    \n",
    "    def sentimen_vader(self, tweet_bersih):\n",
    "        analyzzer = SentimentIntensityAnalyzer()\n",
    "        score = analyzzer.polarity_scores(tweet_bersih)\n",
    "        return \"{}\".format(score['compound'])\n",
    "    \n",
    "    def labeling(self, sentimen):\n",
    "        if sentimen == 0:\n",
    "            lb = 'netral'\n",
    "        elif sentimen < 0:\n",
    "            lb = 'negatif'\n",
    "        elif sentimen > 0:\n",
    "            lb = 'positif'\n",
    "        return lb\n",
    "        "
   ]
  },
  {
   "cell_type": "code",
   "execution_count": 3,
   "metadata": {},
   "outputs": [],
   "source": [
    "def bacaFile(filenya):\n",
    "    namaFile = filenya\n",
    "    # print (f\"nama file {namaFile}\")\n",
    "    with open(namaFile, 'rb') as f:\n",
    "        isiFile = f.readlines()\n",
    "    return isiFile"
   ]
  },
  {
   "cell_type": "code",
   "execution_count": 4,
   "metadata": {
    "scrolled": true
   },
   "outputs": [],
   "source": [
    "# if __name__ == '__main__':\n",
    "tweet_analyzer = TweetAnalyzer()\n",
    "tweets = bacaFile('daftarTweets.txt')\n",
    "df = tweet_analyzer.json_to_data_frame(tweets)"
   ]
  },
  {
   "cell_type": "code",
   "execution_count": 5,
   "metadata": {},
   "outputs": [
    {
     "name": "stdout",
     "output_type": "stream",
     "text": [
      "0    RT @ShobhaBJP: Horrific visuals from the land ...\n",
      "1    RT @EveningStandard: Lions nap peacefully on S...\n",
      "2    @ImranKhanPTI @MJALSHRIKA This is the #Hindu #...\n",
      "3    RT @HLN_BE: Zuid-Korea versoepelt lockdown bee...\n",
      "4    I was supposed to have my first cum bukkake ne...\n",
      "5    RT @KChiruTweets: On a Sunday before lockdown....\n",
      "6    RT @tanwer_m: This is from Jehanabad, Bihar. \\...\n",
      "7    RT @DavidLammy: Number 10 should urgently expl...\n",
      "8    RT @kendrahunsley: me to my friends after lock...\n",
      "9    \"What are you looking forward to once lockdown...\n",
      "Name: tweets, dtype: object\n"
     ]
    }
   ],
   "source": [
    "print(df['tweets'].head(10))"
   ]
  },
  {
   "cell_type": "code",
   "execution_count": 6,
   "metadata": {},
   "outputs": [
    {
     "name": "stdout",
     "output_type": "stream",
     "text": [
      "                                              tweets  sentiment    label\n",
      "0  rt horrific visuals land shivajimaharaj hindu ...    -0.7964  negatif\n",
      "1  rt lions nap peacefully south africa roads cor...     0.5267  positif\n",
      "2  hindu sindhi pakistan ready commit suicide chi...    -0.2023  negatif\n",
      "3           rt zuid-korea versoepelt lockdown beetje     0.0000   netral\n",
      "4  supposed first cum bukkake next week lockdown ...    -0.4767  negatif\n",
      "5  rt sunday lockdown missing meeting dear ones s...     0.8074  positif\n",
      "6  rt jehanabad bihar kids surging lockdown eatin...     0.0000   netral\n",
      "7  rt number 10 urgently explain boris johnson re...    -0.3182  negatif\n",
      "8                                rt friends lockdown     0.4767  positif\n",
      "9  `` looking forward lockdown '' people seeing f...     0.4767  positif\n"
     ]
    }
   ],
   "source": [
    "#bersihin tweet\n",
    "df['tweets'] = np.array([tweet_analyzer.clean_tweet(tweet) for tweet in df['tweets']])\n",
    "#sentimen analisis\n",
    "df['sentiment'] = np.array([float(tweet_analyzer.sentimen_vader(tweet)) for tweet in df['tweets']])\n",
    "df['label'] = np.array([tweet_analyzer.labeling(tweet) for tweet in df['sentiment']])\n",
    "print(df.head(10))"
   ]
  },
  {
   "cell_type": "code",
   "execution_count": 7,
   "metadata": {
    "scrolled": true
   },
   "outputs": [
    {
     "data": {
      "image/png": "[encoded data removed]",
      "text/plain": [
       "<Figure size 432x288 with 1 Axes>"
      ]
     },
     "metadata": {
      "needs_background": "light"
     },
     "output_type": "display_data"
    }
   ],
   "source": [
    "pos = len(df[df.sentiment > 0])\n",
    "neg = len(df[df.sentiment < 0])\n",
    "net = len(df[df.sentiment == 0])\n",
    "\n",
    "y = [pos, neg, net]\n",
    "plt.title('Analisis Sentimen')\n",
    "plt.ylabel('Jumlah tweet')\n",
    "plt.xticks(range(len(y)), ['positif', 'netral', 'negatif'])\n",
    "plt.bar(range(len(y)), height=y, width=0.75, align='center', alpha=0.8)\n",
    "plt.show()"
   ]
  },
  {
   "cell_type": "code",
   "execution_count": 8,
   "metadata": {},
   "outputs": [
    {
     "data": {
      "text/plain": [
       "15494"
      ]
     },
     "execution_count": 8,
     "metadata": {},
     "output_type": "execute_result"
    }
   ],
   "source": [
    "len(df)"
   ]
  },
  {
   "cell_type": "code",
   "execution_count": 9,
   "metadata": {},
   "outputs": [
    {
     "data": {
      "text/plain": [
       "tweets       0\n",
       "sentiment    0\n",
       "label        0\n",
       "dtype: int64"
      ]
     },
     "execution_count": 9,
     "metadata": {},
     "output_type": "execute_result"
    }
   ],
   "source": [
    "df.isnull().sum()"
   ]
  },
  {
   "cell_type": "code",
   "execution_count": 10,
   "metadata": {},
   "outputs": [
    {
     "data": {
      "text/plain": [
       "array(['negatif', 'positif', 'netral'], dtype=object)"
      ]
     },
     "execution_count": 10,
     "metadata": {},
     "output_type": "execute_result"
    }
   ],
   "source": [
    "df['label'].unique()"
   ]
  },
  {
   "cell_type": "code",
   "execution_count": 11,
   "metadata": {},
   "outputs": [
    {
     "data": {
      "text/plain": [
       "netral     6646\n",
       "positif    5284\n",
       "negatif    3564\n",
       "Name: label, dtype: int64"
      ]
     },
     "execution_count": 11,
     "metadata": {},
     "output_type": "execute_result"
    }
   ],
   "source": [
    "df['label'].value_counts()"
   ]
  },
  {
   "cell_type": "code",
   "execution_count": 12,
   "metadata": {},
   "outputs": [],
   "source": [
    "from sklearn.model_selection import train_test_split\n",
    "X = df['tweets']\n",
    "y = df['label']\n",
    "X_train, X_test, y_train, y_test = train_test_split(X, y, test_size=0.3, random_state=42)"
   ]
  },
  {
   "cell_type": "code",
   "execution_count": 27,
   "metadata": {
    "scrolled": true
   },
   "outputs": [
    {
     "data": {
      "text/plain": [
       "(4649,)"
      ]
     },
     "execution_count": 27,
     "metadata": {},
     "output_type": "execute_result"
    }
   ],
   "source": [
    "X_test.shape"
   ]
  },
  {
   "cell_type": "code",
   "execution_count": 28,
   "metadata": {},
   "outputs": [
    {
     "data": {
      "text/plain": [
       "(10845,)"
      ]
     },
     "execution_count": 28,
     "metadata": {},
     "output_type": "execute_result"
    }
   ],
   "source": [
    "X_train.shape"
   ]
  },
  {
   "cell_type": "code",
   "execution_count": 13,
   "metadata": {},
   "outputs": [],
   "source": [
    "from sklearn.pipeline import Pipeline\n",
    "from sklearn.feature_extraction.text import TfidfVectorizer\n",
    "from sklearn.naive_bayes import MultinomialNB\n",
    "from sklearn.svm import LinearSVC\n",
    "\n",
    "# Naïve Bayes:\n",
    "text_clf_nb = Pipeline([('tfidfn', TfidfVectorizer()),\n",
    "                     ('clfn', MultinomialNB()),\n",
    "])\n",
    "\n",
    "# Linear SVC:\n",
    "text_clf_lsvc = Pipeline([('tfidf', TfidfVectorizer()),\n",
    "                     ('clf', LinearSVC()),\n",
    "])"
   ]
  },
  {
   "cell_type": "code",
   "execution_count": 21,
   "metadata": {},
   "outputs": [
    {
     "data": {
      "text/plain": [
       "Pipeline(memory=None,\n",
       "         steps=[('tfidf',\n",
       "                 TfidfVectorizer(analyzer='word', binary=False,\n",
       "                                 decode_error='strict',\n",
       "                                 dtype=<class 'numpy.float64'>,\n",
       "                                 encoding='utf-8', input='content',\n",
       "                                 lowercase=True, max_df=1.0, max_features=None,\n",
       "                                 min_df=1, ngram_range=(1, 1), norm='l2',\n",
       "                                 preprocessor=None, smooth_idf=True,\n",
       "                                 stop_words=None, strip_accents=None,\n",
       "                                 sublinear_tf=False,\n",
       "                                 token_pattern='(?u)\\\\b\\\\w\\\\w+\\\\b',\n",
       "                                 tokenizer=None, use_idf=True,\n",
       "                                 vocabulary=None)),\n",
       "                ('clf',\n",
       "                 LinearSVC(C=1.0, class_weight=None, dual=True,\n",
       "                           fit_intercept=True, intercept_scaling=1,\n",
       "                           loss='squared_hinge', max_iter=1000,\n",
       "                           multi_class='ovr', penalty='l2', random_state=None,\n",
       "                           tol=0.0001, verbose=0))],\n",
       "         verbose=False)"
      ]
     },
     "execution_count": 21,
     "metadata": {},
     "output_type": "execute_result"
    }
   ],
   "source": [
    "text_clf_lsvc.fit(X_train,y_train)\n",
    "# text_clf_nb.fit(X_train,y_train)"
   ]
  },
  {
   "cell_type": "code",
   "execution_count": 22,
   "metadata": {},
   "outputs": [],
   "source": [
    "predictions = text_clf_lsvc.predict(X_test)"
   ]
  },
  {
   "cell_type": "code",
   "execution_count": 23,
   "metadata": {},
   "outputs": [],
   "source": [
    "from sklearn.metrics import confusion_matrix, classification_report, accuracy_score"
   ]
  },
  {
   "cell_type": "code",
   "execution_count": 24,
   "metadata": {},
   "outputs": [
    {
     "name": "stdout",
     "output_type": "stream",
     "text": [
      "[[ 866  109   95]\n",
      " [  60 1835  108]\n",
      " [  55  164 1357]]\n"
     ]
    }
   ],
   "source": [
    "print(confusion_matrix(y_test,predictions))"
   ]
  },
  {
   "cell_type": "code",
   "execution_count": 25,
   "metadata": {},
   "outputs": [
    {
     "name": "stdout",
     "output_type": "stream",
     "text": [
      "              precision    recall  f1-score   support\n",
      "\n",
      "     negatif       0.88      0.81      0.84      1070\n",
      "      netral       0.87      0.92      0.89      2003\n",
      "     positif       0.87      0.86      0.87      1576\n",
      "\n",
      "    accuracy                           0.87      4649\n",
      "   macro avg       0.87      0.86      0.87      4649\n",
      "weighted avg       0.87      0.87      0.87      4649\n",
      "\n"
     ]
    }
   ],
   "source": [
    "print(classification_report(y_test, predictions))"
   ]
  },
  {
   "cell_type": "code",
   "execution_count": 26,
   "metadata": {
    "scrolled": true
   },
   "outputs": [
    {
     "name": "stdout",
     "output_type": "stream",
     "text": [
      "0.8728758872875887\n"
     ]
    }
   ],
   "source": [
    "print(accuracy_score(y_test, predictions))"
   ]
  },
  {
   "cell_type": "code",
   "execution_count": null,
   "metadata": {},
   "outputs": [],
   "source": []
  }
 ],
 "metadata": {
  "kernelspec": {
   "display_name": "Python 3",
   "language": "python",
   "name": "python3"
  },
  "language_info": {
   "codemirror_mode": {
    "name": "ipython",
    "version": 3
   },
   "file_extension": ".py",
   "mimetype": "text/x-python",
   "name": "python",
   "nbconvert_exporter": "python",
   "pygments_lexer": "ipython3",
   "version": "3.8.1"
  }
 },
 "nbformat": 4,
 "nbformat_minor": 4
}
